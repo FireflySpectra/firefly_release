{
 "cells": [
  {
   "cell_type": "markdown",
   "metadata": {},
   "source": [
    "# Run Firefly in an HPC facility like Sciama\n",
    "\n",
    "Here we describe how to make use of the scripts in the folder 'SDSSinHPC' to run Firefly in an HPC facility like [Sciama](http://www.sciama.icg.port.ac.uk/).\n",
    "\n",
    "The first step to run Firefly is to set the enviromental variables so Python finds the code and the Stellar Population Models. \n",
    "\n",
    "Example for a .bashrc file:\n",
    "```\n",
    "$FF_DIR='[your path to Firefly]/firefly_code'\n",
    "$PYTHONPATH=‘${FF_DIR}/python:$PYTHONPATH’\n",
    "$STELLARPOPMODELS_DIR=‘[your path to Firefly]/stellar_population_models/'\n",
    "```\n",
    "\n",
    "The 'SDSSinHPC/write_scripts_submit.py' script has two purposes:\n",
    "\n",
    "1. If 'write_scripts = True', it will write submission scripts stored in adirectory that is not tracked by git: '{FF_DIR}/jobs'\n",
    "\n",
    "2. If 'submit_scripts = True', then the 'run_stellerpop.py' (which is equivalent to the one_spectra.py) is called and it will submit the scripts and the output will be stored in a directory that is not tracked by git, '{FF_DIR}/output'.\n",
    "\n"
   ]
  }
 ],
 "metadata": {
  "kernelspec": {
   "display_name": "Python [Root]",
   "language": "python",
   "name": "Python [Root]"
  },
  "language_info": {
   "codemirror_mode": {
    "name": "ipython",
    "version": 2
   },
   "file_extension": ".py",
   "mimetype": "text/x-python",
   "name": "python",
   "nbconvert_exporter": "python",
   "pygments_lexer": "ipython2",
   "version": "2.7.12"
  }
 },
 "nbformat": 4,
 "nbformat_minor": 1
}
